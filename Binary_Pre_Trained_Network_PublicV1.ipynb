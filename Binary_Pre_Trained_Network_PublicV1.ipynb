{
  "nbformat": 4,
  "nbformat_minor": 0,
  "metadata": {
    "colab": {
      "provenance": [],
      "collapsed_sections": [
        "zcb_9sT1LJ2Q",
        "zZXdgxeOledD",
        "I_znqjKEPfu5",
        "OiA2Gpb0QIh0",
        "kXTddpPGqHL2",
        "iK72Nq-xTzJW",
        "-CCkfTD1O08w",
        "g_7X4sceFw4p",
        "H8Ijw1wGNqrP"
      ]
    },
    "kernelspec": {
      "name": "python3",
      "display_name": "Python 3"
    },
    "language_info": {
      "name": "python"
    }
  },
  "cells": [
    {
      "cell_type": "markdown",
      "source": [
        "Hey, in this notebook we are going to be building a CNN for binary classification using different datasets. In this, we are going to be predicting either Benign (0) or Malignant (1).\n",
        "\n",
        "In the process, we are going to be taking the following steps:\n",
        "\n",
        "1.   Upload out dataset zip file\n",
        "2.   Process that zip file into a more usable form\n",
        "3.   Prepare the dataset for use\n",
        "4.   Import a pre-trained model and adapt it for our use\n",
        "5.   Train and test our new model"
      ],
      "metadata": {
        "id": "NcReR068o7mV"
      }
    },
    {
      "cell_type": "markdown",
      "source": [
        "In future notebooks, we are going to continue where this notebook leaves off. So, in future notebooks we will do the following:\n",
        "\n",
        "1. Do more in-depth testing using other datasets to assess bias.\n",
        "2. Fine-tune the models made here with other datasets to (hopefully) reduce bias and increase our overall accuracy."
      ],
      "metadata": {
        "id": "4N0Bd1z1CEql"
      }
    },
    {
      "cell_type": "markdown",
      "source": [
        "**IMPORTANT NOTES ABOUT PUBLIC UPLOAD VERSION**\n",
        "\n",
        "1. Some parts of the code below have been removed and replaced with either comments indicating what they did, or by setting variables equal to \"None\". This is done as some code contained either information relating to API keys or local directory structures. The information was removed for privacy. If you have any concerns on what data should be placed there, send me an email and I will provide any support that is necessary to assist you.\n",
        "2. This notebook is not meant to be run in its entirety. It contains multiple paths depending on the kind of testing that we wish to run. If you run every cell in order, you will encounter an error. Sections where every cell is not meant to be run are marked clearly and include notes on how to proceed with running.\n",
        "3. All or most of the cell outputs have been removed to reduce comfusion and to ensure the privacy of some of the data (since this is all medical data). If you are interested in the output of any of the cells (ex: the training/validation accuracy and loss), send me an email and I can send it to you if it is available."
      ],
      "metadata": {
        "id": "-GxgAXvqqBCn"
      }
    },
    {
      "cell_type": "markdown",
      "source": [
        "# **Imports and Useful Functions**"
      ],
      "metadata": {
        "id": "zcb_9sT1LJ2Q"
      }
    },
    {
      "cell_type": "markdown",
      "source": [
        "The code below will import and install any required packages or libraries. As always, run this code first when you start up the notebook."
      ],
      "metadata": {
        "id": "yfqz_3TRlILj"
      }
    },
    {
      "cell_type": "code",
      "execution_count": null,
      "metadata": {
        "id": "7_OMO1zWk6wa"
      },
      "outputs": [],
      "source": [
        "import os\n",
        "import matplotlib.pyplot as plt\n",
        "import matplotlib.image as mpimg\n",
        "import pandas as pd\n",
        "from PIL import Image\n",
        "\n",
        "import numpy as np\n",
        "\n",
        "import tensorflow as tf\n",
        "from tensorflow import keras\n",
        "import keras.layers as tfl\n",
        "\n",
        "import sklearn\n",
        "from sklearn.metrics import classification_report\n",
        "from sklearn.model_selection import train_test_split\n",
        "from sklearn.metrics import roc_curve\n",
        "from sklearn.metrics import auc\n",
        "\n",
        "from glob import glob\n",
        "from google.colab import files\n",
        "\n",
        "import io\n",
        "import gc\n",
        "\n",
        "print(tf.version.VERSION)"
      ]
    },
    {
      "cell_type": "markdown",
      "source": [
        "This function below will just make a beeping sound when it is called. Feel free to call this function at the end of a cell which will take a long time to run so that you don't need to watch it."
      ],
      "metadata": {
        "id": "TQ3-uaJdVb-6"
      }
    },
    {
      "cell_type": "code",
      "source": [
        "from google.colab import output\n",
        "\n",
        "def beep():\n",
        "  output.eval_js('new Audio(\"https://upload.wikimedia.org/wikipedia/commons/0/05/Beep-09.ogg\").play()')"
      ],
      "metadata": {
        "id": "W7A2usBZPkFi"
      },
      "execution_count": null,
      "outputs": []
    },
    {
      "cell_type": "markdown",
      "source": [
        "# **Uploading the Dataset Zip File**"
      ],
      "metadata": {
        "id": "zZXdgxeOledD"
      }
    },
    {
      "cell_type": "markdown",
      "source": [
        "The first thing that we need to do is actually upload our zip file for our dataset.\n",
        "\n",
        "There's a couple of options for how we can upload our datasets. Since google colabs doesn't run locally, we have to upload our data to our current session.\n",
        "\n",
        "Some options that we have are to:\n",
        "\n",
        "1.   Upload local files directly into our current session\n",
        "2.   Mount a google drive to upload files\n",
        "3.   Upload kaggle datasets with their API\n",
        "\n",
        "\n",
        "They all have their benefits and problems, but you just have to pick one that works best for the dataset that you are using. Just pick one of the following methods as they are all achieving the same end goal.\n",
        "\n"
      ],
      "metadata": {
        "id": "K784xva-qyRQ"
      }
    },
    {
      "cell_type": "markdown",
      "source": [
        "## **(a) Simply Uploading Local Files**"
      ],
      "metadata": {
        "id": "I_znqjKEPfu5"
      }
    },
    {
      "cell_type": "markdown",
      "source": [
        "The easiest option is just to upload a local file that you have into the session. Just make sure that you upload it as a zip file to make it easy. The code below can be used to upload any file you would like.\n",
        "\n",
        "While this method is really easy to do, it takes a really long time. Depending on your internet speed, it will take roughly 15 minutes per 1 GB of data. So, I don't really reccomend this method if you can avoid it."
      ],
      "metadata": {
        "id": "jt22w_64Pjnl"
      }
    },
    {
      "cell_type": "code",
      "source": [
        "files.upload()"
      ],
      "metadata": {
        "id": "EXDZ2-2KPuTs"
      },
      "execution_count": null,
      "outputs": []
    },
    {
      "cell_type": "markdown",
      "source": [
        "## **(b) Mount Your Google Drive**"
      ],
      "metadata": {
        "id": "OiA2Gpb0QIh0"
      }
    },
    {
      "cell_type": "markdown",
      "source": [
        "Another option for uploading files is to mount your drive to the current session. This will let you access files which are stored **in your drive** to the current session. However, you have to be careful when using this method. Since the files stored on your drive are not stored in the current session, transfering files between the two can be very slow. If you store all of your unzipped data on your drive, it will be very slow when it comes to training/testing. However, if you unzip the file into your current session, you can get around this and greatly speed up the whole process.\n",
        "\n",
        "If you use this method, make sure that file paths are set up correctly later on as I will be assuming that the zip file you are trying to use is in the /content folder."
      ],
      "metadata": {
        "id": "6WPB3C_AQQKW"
      }
    },
    {
      "cell_type": "code",
      "execution_count": null,
      "metadata": {
        "id": "RWSJpsyKqHjH",
        "colab": {
          "base_uri": "https://localhost:8080/"
        },
        "outputId": "38042d7c-1f48-4b82-87a4-ae7a57735d8f"
      },
      "outputs": [
        {
          "output_type": "stream",
          "name": "stdout",
          "text": [
            "Mounted at /content/drive\n"
          ]
        }
      ],
      "source": [
        "from google.colab import drive\n",
        "drive.mount('/content/drive')"
      ]
    },
    {
      "cell_type": "markdown",
      "source": [
        "**Don't run this now**, but when you are done using this notebook, make sure that you un-mount your drive with the following command."
      ],
      "metadata": {
        "id": "fhO9yC77QzoI"
      }
    },
    {
      "cell_type": "code",
      "source": [
        "# ONLY RUN WHEN DONE WITH NOTEBOOK\n",
        "drive.flush_and_unmount()\n",
        "print('All changes made in this colab session should now be visible in Drive.')"
      ],
      "metadata": {
        "id": "uo8Iwa2mRRRA",
        "colab": {
          "base_uri": "https://localhost:8080/"
        },
        "outputId": "d3a13bde-2aab-4cf7-e76a-ef533c2f4b02"
      },
      "execution_count": null,
      "outputs": [
        {
          "output_type": "stream",
          "name": "stdout",
          "text": [
            "All changes made in this colab session should now be visible in Drive.\n"
          ]
        }
      ]
    },
    {
      "cell_type": "markdown",
      "source": [
        "## **(c) Getting Images From Kaggle**"
      ],
      "metadata": {
        "id": "fLcQYU3Njs-S"
      }
    },
    {
      "cell_type": "markdown",
      "source": [
        "One of the options that we have for uploading datasets is to use the kaggle API. However, this will only work for datasets that were taken from kaggle.com. If one that we want to use isn't on the website, I'm pretty sure that I'm able to upload it myself, so we can play around with that."
      ],
      "metadata": {
        "id": "RmaQh24blkaR"
      }
    },
    {
      "cell_type": "markdown",
      "source": [
        "Before we can use the kaggle API, we have to setup an API key. Normally, you would get their free key from the website and upload the json file here. But, I went ahead and just set it up in the code so that you don't need to worry about the API key file or getting your own API key.\n",
        "\n",
        "**IMPORTANT NOTE: THE FOLLOWING CODE HAS BEEN ALTERED TO REMOVE API KEYS. FOR THIS CODE TO RUN, YOU WILL NEED TO UPLOAD A VALID KAGGLE API KEY FILE INTO THE ~/.kaggle/kaggle.json FILE**"
      ],
      "metadata": {
        "id": "XT7rf2Rrl1WY"
      }
    },
    {
      "cell_type": "code",
      "source": [
        "# Set up the API Key\n",
        "!pip install -q kaggle\n",
        "!mkdir -p ~/.kaggle\n",
        "# LINE REMOVED WHICH INCLUDED AN API KEY\n",
        "!chmod 600 ~/.kaggle/kaggle.json"
      ],
      "metadata": {
        "id": "6rOijnZTj5tY"
      },
      "execution_count": null,
      "outputs": []
    },
    {
      "cell_type": "markdown",
      "source": [
        "Now that we have finished setting up the API, we can simply download it. To get this command, click on the three dots in the top right of any dataset, and click \"Copy API Command\". Just make sure to add the ! in front of the command that it gives you as it is not a python command.\n",
        "\n",
        "For example, to download the HAM10000 dataset, you can use:\n",
        "\n",
        "```\n",
        "!kaggle datasets download -d kmader/skin-cancer-mnist-ham10000\n",
        "```\n",
        "\n"
      ],
      "metadata": {
        "id": "DF6rDlr_l0Nv"
      }
    },
    {
      "cell_type": "code",
      "source": [
        "# !!!! CHANGE THIS FOR EACH DATASET!!!!\n",
        "# Download the dataset using the kaggle API\n",
        "!kaggle datasets download -d fanconic/skin-cancer-malignant-vs-benign\n",
        "beep()"
      ],
      "metadata": {
        "id": "kRdgZYXClYNj",
        "colab": {
          "base_uri": "https://localhost:8080/",
          "height": 71
        },
        "outputId": "6c4d721d-ef01-447e-9c9b-687227899427"
      },
      "execution_count": null,
      "outputs": [
        {
          "output_type": "stream",
          "name": "stdout",
          "text": [
            "Downloading skin-cancer-malignant-vs-benign.zip to /content\n",
            " 99% 323M/325M [00:04<00:00, 67.3MB/s]\n",
            "100% 325M/325M [00:04<00:00, 82.1MB/s]\n"
          ]
        }
      ]
    },
    {
      "cell_type": "markdown",
      "source": [
        "# **Setting Up The Dataset**"
      ],
      "metadata": {
        "id": "L5BFPc6wrsKH"
      }
    },
    {
      "cell_type": "markdown",
      "source": [
        "Now that we have set up our dataset, we can go ahead and process our zip file into a usable form. This will ultimately mean Tensorflow Dataset objects.\n",
        "\n",
        "Depending on which dataset we are going to be using, I have provided code to set up the different datasets. Follow the code for the matching dataset. **Do not run the code for more than one dataset** (marked by a, b, c, or d). While each section has some redundant code, I have included copies of it to reduce the chance that user errors are made when running the code. However, below I have included the variables and hyper-parameters that are used in all three datasets, that we will want to keep steady between tests. Please set them as you like, but the current setup provides good results on all datasets we have."
      ],
      "metadata": {
        "id": "qrLEP21qrvro"
      }
    },
    {
      "cell_type": "code",
      "source": [
        "# !!!! DATASET VARIABLES AND HYPER-PARAMETERS !!!!\n",
        "# The new image size to resize to (matches our models input size)\n",
        "new_img_size = (224, 224)\n",
        "\n",
        "# The size of the training set (as a proportion)\n",
        "TRAIN_SIZE = 0.8\n",
        "assert 0 <= TRAIN_SIZE <= 1, \"ERROR -- INVALID TRAIN_SIZE -- Must be between [0, 1]\"\n",
        "\n",
        "# The batch size to use\n",
        "BATCH_SIZE = 64"
      ],
      "metadata": {
        "id": "-FRlkgM92qvl"
      },
      "execution_count": null,
      "outputs": []
    },
    {
      "cell_type": "markdown",
      "source": [
        "## **(a) Setting up PAD-UFES-20**"
      ],
      "metadata": {
        "id": "fdQ_BqPOZAvR"
      }
    },
    {
      "cell_type": "markdown",
      "source": [
        "Here, we are going to be setting up the PAD-UFES-20 dataset."
      ],
      "metadata": {
        "id": "m-QeXpmUyve4"
      }
    },
    {
      "cell_type": "markdown",
      "source": [
        "Firstly, we just want to unzip our zip file. Make sure to set the value of \"ds_path\" to the path of the zip file."
      ],
      "metadata": {
        "id": "xDfoP80lZJbO"
      }
    },
    {
      "cell_type": "code",
      "source": [
        "# !!!! SET THE FILE PATH FOR THE DATASET !!!!\n",
        "ds_path = None\n",
        "\n",
        "# Unzip the dataset into the content folder and remove the unnecesary mac folder\n",
        "!unzip \"$ds_path\" -d /content\n",
        "!rm -r '/content/__MACOSX'"
      ],
      "metadata": {
        "id": "oeGAuaSHZEVi"
      },
      "execution_count": null,
      "outputs": []
    },
    {
      "cell_type": "markdown",
      "source": [
        "Now, we are just going to set a bunch of variables that we are going to use throughout the following code.\n",
        "\n",
        "**PUBLIC RELEASE NOTE:** The values for base_dataset_dir and metadata_path may not work for you as these are based on the private setup that was used during the project. If running this code privately, please be sure that all of the below variables are set properly. Otherwise, you will most certainly encounter an error."
      ],
      "metadata": {
        "id": "XFVfyhk9p1z4"
      }
    },
    {
      "cell_type": "code",
      "source": [
        "# VARIABLES TO SET TO MATCH THE DATASET\n",
        "base_dataset_dir = '/content/PAD-UFES-20'\n",
        "metadata_path = '/content/PAD-UFES-20/PAD-UFES-20-metadata.csv'\n",
        "\n",
        "# The filetype of the images\n",
        "image_type = 'png'\n",
        "\n",
        "# The column that has the file name for each image (usually an id number)\n",
        "img_file_col = 'img_id'\n",
        "\n",
        "# Dataframe column name with original classification\n",
        "orig_label_col = 'diagnostic'\n",
        "\n",
        "# The column name with the fitzpatrick score\n",
        "fitz_col = 'fitspatrick'"
      ],
      "metadata": {
        "id": "ggqC8YgTZcEq"
      },
      "execution_count": null,
      "outputs": []
    },
    {
      "cell_type": "markdown",
      "source": [
        "Now, we can go ahead and read in our metadata file so that we can begin to process the dataset."
      ],
      "metadata": {
        "id": "bmgoA3Nqrd7D"
      }
    },
    {
      "cell_type": "code",
      "source": [
        "df = pd.read_csv(metadata_path)\n",
        "df.head()"
      ],
      "metadata": {
        "id": "UBrRUPmPZ7bM"
      },
      "execution_count": null,
      "outputs": []
    },
    {
      "cell_type": "markdown",
      "source": [
        "Here, we are just going to remove all of the columns that will be unused. This step is not necessary, but may be helpful when trying to troubleshoot issues."
      ],
      "metadata": {
        "id": "pGKcVfDfrjBo"
      }
    },
    {
      "cell_type": "code",
      "source": [
        "# Get rid of unused columns\n",
        "df = df[[img_file_col, orig_label_col, fitz_col]]\n",
        "df.head()"
      ],
      "metadata": {
        "id": "ARhgDDeIadjR"
      },
      "execution_count": null,
      "outputs": []
    },
    {
      "cell_type": "markdown",
      "source": [
        "Now, we can go ahead and prepare out dataframe. We want to do two things. Create binary labels from our diagnostics, and aggregate our fitzpatrick data."
      ],
      "metadata": {
        "id": "lnDO6K_va6_Z"
      }
    },
    {
      "cell_type": "markdown",
      "source": [
        "Firstly, we will just aggregate the fitzpatrick label information.\n",
        "\n",
        "So, Labels 1 & 2 become 12, 3 & 4 become 34, and 5 & 6 become 56.\n",
        "\n",
        "In the process, we will also reject any images that don't have a provided fitzpatrick value."
      ],
      "metadata": {
        "id": "AkJ0bHFUryls"
      }
    },
    {
      "cell_type": "code",
      "source": [
        "# Aggregate the fitzpatrick information\n",
        "df = df.loc[df[fitz_col].notna()]\n",
        "df[fitz_col] = df[fitz_col].astype(int)\n",
        "agg_fitz_vals = [12, 34, 56]\n",
        "df['agg_fitz'] = df[fitz_col].map(lambda x: agg_fitz_vals[int((x - 1) / 2)])\n",
        "df.head()"
      ],
      "metadata": {
        "id": "ijJPBOldaTKL"
      },
      "execution_count": null,
      "outputs": []
    },
    {
      "cell_type": "markdown",
      "source": [
        "Next, we are just going to convert the provided diagnostic categories into our binary labels (malignant vs benign)."
      ],
      "metadata": {
        "id": "55ieha7tsWjg"
      }
    },
    {
      "cell_type": "code",
      "source": [
        "# Define the categories in our dataset\n",
        "categories = ['Benign', 'Malignant']\n",
        "\n",
        "# Define a map tying the diagnostic labels to binary lables\n",
        "label_ind_dict = {\n",
        "    'ACK': 0,\n",
        "    'BCC': 1,\n",
        "    'MEL': 1,\n",
        "    'NEV': 0,\n",
        "    'SCC': 1,\n",
        "    'SEK': 0\n",
        "}\n",
        "\n",
        "# Add binary label indexes (0 or 1) and the matching label (see categories list above)\n",
        "df['label_ind'] = df['diagnostic'].map(label_ind_dict.get)\n",
        "df['label'] = df['label_ind'].map(lambda x: categories[x])\n",
        "df.head()"
      ],
      "metadata": {
        "colab": {
          "base_uri": "https://localhost:8080/",
          "height": 206
        },
        "id": "0UnlT8Rrd_3x",
        "outputId": "db8a4d3b-6525-4bba-9fb5-7fafc28f46cc"
      },
      "execution_count": null,
      "outputs": [
        {
          "output_type": "execute_result",
          "data": {
            "text/plain": [
              "                 img_id diagnostic  fitspatrick  agg_fitz  label_ind  \\\n",
              "1    PAT_46_881_939.png        BCC            3        34          1   \n",
              "4  PAT_684_1302_588.png        BCC            1        12          1   \n",
              "6  PAT_778_1471_835.png        BCC            3        34          1   \n",
              "7   PAT_117_179_983.png        BCC            1        12          1   \n",
              "9  PAT_705_4015_413.png        ACK            1        12          0   \n",
              "\n",
              "       label  \n",
              "1  Malignant  \n",
              "4  Malignant  \n",
              "6  Malignant  \n",
              "7  Malignant  \n",
              "9     Benign  "
            ],
            "text/html": [
              "\n",
              "  <div id=\"df-51fc8eb3-88bf-4528-9b81-c0dd27b3e1af\" class=\"colab-df-container\">\n",
              "    <div>\n",
              "<style scoped>\n",
              "    .dataframe tbody tr th:only-of-type {\n",
              "        vertical-align: middle;\n",
              "    }\n",
              "\n",
              "    .dataframe tbody tr th {\n",
              "        vertical-align: top;\n",
              "    }\n",
              "\n",
              "    .dataframe thead th {\n",
              "        text-align: right;\n",
              "    }\n",
              "</style>\n",
              "<table border=\"1\" class=\"dataframe\">\n",
              "  <thead>\n",
              "    <tr style=\"text-align: right;\">\n",
              "      <th></th>\n",
              "      <th>img_id</th>\n",
              "      <th>diagnostic</th>\n",
              "      <th>fitspatrick</th>\n",
              "      <th>agg_fitz</th>\n",
              "      <th>label_ind</th>\n",
              "      <th>label</th>\n",
              "    </tr>\n",
              "  </thead>\n",
              "  <tbody>\n",
              "    <tr>\n",
              "      <th>1</th>\n",
              "      <td>PAT_46_881_939.png</td>\n",
              "      <td>BCC</td>\n",
              "      <td>3</td>\n",
              "      <td>34</td>\n",
              "      <td>1</td>\n",
              "      <td>Malignant</td>\n",
              "    </tr>\n",
              "    <tr>\n",
              "      <th>4</th>\n",
              "      <td>PAT_684_1302_588.png</td>\n",
              "      <td>BCC</td>\n",
              "      <td>1</td>\n",
              "      <td>12</td>\n",
              "      <td>1</td>\n",
              "      <td>Malignant</td>\n",
              "    </tr>\n",
              "    <tr>\n",
              "      <th>6</th>\n",
              "      <td>PAT_778_1471_835.png</td>\n",
              "      <td>BCC</td>\n",
              "      <td>3</td>\n",
              "      <td>34</td>\n",
              "      <td>1</td>\n",
              "      <td>Malignant</td>\n",
              "    </tr>\n",
              "    <tr>\n",
              "      <th>7</th>\n",
              "      <td>PAT_117_179_983.png</td>\n",
              "      <td>BCC</td>\n",
              "      <td>1</td>\n",
              "      <td>12</td>\n",
              "      <td>1</td>\n",
              "      <td>Malignant</td>\n",
              "    </tr>\n",
              "    <tr>\n",
              "      <th>9</th>\n",
              "      <td>PAT_705_4015_413.png</td>\n",
              "      <td>ACK</td>\n",
              "      <td>1</td>\n",
              "      <td>12</td>\n",
              "      <td>0</td>\n",
              "      <td>Benign</td>\n",
              "    </tr>\n",
              "  </tbody>\n",
              "</table>\n",
              "</div>\n",
              "    <div class=\"colab-df-buttons\">\n",
              "\n",
              "  <div class=\"colab-df-container\">\n",
              "    <button class=\"colab-df-convert\" onclick=\"convertToInteractive('df-51fc8eb3-88bf-4528-9b81-c0dd27b3e1af')\"\n",
              "            title=\"Convert this dataframe to an interactive table.\"\n",
              "            style=\"display:none;\">\n",
              "\n",
              "  <svg xmlns=\"http://www.w3.org/2000/svg\" height=\"24px\" viewBox=\"0 -960 960 960\">\n",
              "    <path d=\"M120-120v-720h720v720H120Zm60-500h600v-160H180v160Zm220 220h160v-160H400v160Zm0 220h160v-160H400v160ZM180-400h160v-160H180v160Zm440 0h160v-160H620v160ZM180-180h160v-160H180v160Zm440 0h160v-160H620v160Z\"/>\n",
              "  </svg>\n",
              "    </button>\n",
              "\n",
              "  <style>\n",
              "    .colab-df-container {\n",
              "      display:flex;\n",
              "      gap: 12px;\n",
              "    }\n",
              "\n",
              "    .colab-df-convert {\n",
              "      background-color: #E8F0FE;\n",
              "      border: none;\n",
              "      border-radius: 50%;\n",
              "      cursor: pointer;\n",
              "      display: none;\n",
              "      fill: #1967D2;\n",
              "      height: 32px;\n",
              "      padding: 0 0 0 0;\n",
              "      width: 32px;\n",
              "    }\n",
              "\n",
              "    .colab-df-convert:hover {\n",
              "      background-color: #E2EBFA;\n",
              "      box-shadow: 0px 1px 2px rgba(60, 64, 67, 0.3), 0px 1px 3px 1px rgba(60, 64, 67, 0.15);\n",
              "      fill: #174EA6;\n",
              "    }\n",
              "\n",
              "    .colab-df-buttons div {\n",
              "      margin-bottom: 4px;\n",
              "    }\n",
              "\n",
              "    [theme=dark] .colab-df-convert {\n",
              "      background-color: #3B4455;\n",
              "      fill: #D2E3FC;\n",
              "    }\n",
              "\n",
              "    [theme=dark] .colab-df-convert:hover {\n",
              "      background-color: #434B5C;\n",
              "      box-shadow: 0px 1px 3px 1px rgba(0, 0, 0, 0.15);\n",
              "      filter: drop-shadow(0px 1px 2px rgba(0, 0, 0, 0.3));\n",
              "      fill: #FFFFFF;\n",
              "    }\n",
              "  </style>\n",
              "\n",
              "    <script>\n",
              "      const buttonEl =\n",
              "        document.querySelector('#df-51fc8eb3-88bf-4528-9b81-c0dd27b3e1af button.colab-df-convert');\n",
              "      buttonEl.style.display =\n",
              "        google.colab.kernel.accessAllowed ? 'block' : 'none';\n",
              "\n",
              "      async function convertToInteractive(key) {\n",
              "        const element = document.querySelector('#df-51fc8eb3-88bf-4528-9b81-c0dd27b3e1af');\n",
              "        const dataTable =\n",
              "          await google.colab.kernel.invokeFunction('convertToInteractive',\n",
              "                                                    [key], {});\n",
              "        if (!dataTable) return;\n",
              "\n",
              "        const docLinkHtml = 'Like what you see? Visit the ' +\n",
              "          '<a target=\"_blank\" href=https://colab.research.google.com/notebooks/data_table.ipynb>data table notebook</a>'\n",
              "          + ' to learn more about interactive tables.';\n",
              "        element.innerHTML = '';\n",
              "        dataTable['output_type'] = 'display_data';\n",
              "        await google.colab.output.renderOutput(dataTable, element);\n",
              "        const docLink = document.createElement('div');\n",
              "        docLink.innerHTML = docLinkHtml;\n",
              "        element.appendChild(docLink);\n",
              "      }\n",
              "    </script>\n",
              "  </div>\n",
              "\n",
              "\n",
              "<div id=\"df-caabcec3-623f-49dc-bc27-5c0dc52ae3f4\">\n",
              "  <button class=\"colab-df-quickchart\" onclick=\"quickchart('df-caabcec3-623f-49dc-bc27-5c0dc52ae3f4')\"\n",
              "            title=\"Suggest charts.\"\n",
              "            style=\"display:none;\">\n",
              "\n",
              "<svg xmlns=\"http://www.w3.org/2000/svg\" height=\"24px\"viewBox=\"0 0 24 24\"\n",
              "     width=\"24px\">\n",
              "    <g>\n",
              "        <path d=\"M19 3H5c-1.1 0-2 .9-2 2v14c0 1.1.9 2 2 2h14c1.1 0 2-.9 2-2V5c0-1.1-.9-2-2-2zM9 17H7v-7h2v7zm4 0h-2V7h2v10zm4 0h-2v-4h2v4z\"/>\n",
              "    </g>\n",
              "</svg>\n",
              "  </button>\n",
              "\n",
              "<style>\n",
              "  .colab-df-quickchart {\n",
              "    background-color: #E8F0FE;\n",
              "    border: none;\n",
              "    border-radius: 50%;\n",
              "    cursor: pointer;\n",
              "    display: none;\n",
              "    fill: #1967D2;\n",
              "    height: 32px;\n",
              "    padding: 0 0 0 0;\n",
              "    width: 32px;\n",
              "  }\n",
              "\n",
              "  .colab-df-quickchart:hover {\n",
              "    background-color: #E2EBFA;\n",
              "    box-shadow: 0px 1px 2px rgba(60, 64, 67, 0.3), 0px 1px 3px 1px rgba(60, 64, 67, 0.15);\n",
              "    fill: #174EA6;\n",
              "  }\n",
              "\n",
              "  [theme=dark] .colab-df-quickchart {\n",
              "    background-color: #3B4455;\n",
              "    fill: #D2E3FC;\n",
              "  }\n",
              "\n",
              "  [theme=dark] .colab-df-quickchart:hover {\n",
              "    background-color: #434B5C;\n",
              "    box-shadow: 0px 1px 3px 1px rgba(0, 0, 0, 0.15);\n",
              "    filter: drop-shadow(0px 1px 2px rgba(0, 0, 0, 0.3));\n",
              "    fill: #FFFFFF;\n",
              "  }\n",
              "</style>\n",
              "\n",
              "  <script>\n",
              "    async function quickchart(key) {\n",
              "      const charts = await google.colab.kernel.invokeFunction(\n",
              "          'suggestCharts', [key], {});\n",
              "    }\n",
              "    (() => {\n",
              "      let quickchartButtonEl =\n",
              "        document.querySelector('#df-caabcec3-623f-49dc-bc27-5c0dc52ae3f4 button');\n",
              "      quickchartButtonEl.style.display =\n",
              "        google.colab.kernel.accessAllowed ? 'block' : 'none';\n",
              "    })();\n",
              "  </script>\n",
              "</div>\n",
              "\n",
              "    </div>\n",
              "  </div>\n"
            ]
          },
          "metadata": {},
          "execution_count": 11
        }
      ]
    },
    {
      "cell_type": "markdown",
      "source": [
        "Now, the last thing that we need to do is match each image in our metadata dataframe to its actual file path. This way, we can construct our dataset object where we match the file paths with their labels to in turn match images (as eager tensors) with their labels.\n",
        "\n",
        "To do this, we are going to read through all of the images with the matching image type that follow this structure.\n",
        "\n",
        "\n",
        "```\n",
        "base_dataset_dir\n",
        "  img_dir_1\n",
        "    img_1\n",
        "    img_2\n",
        "    ...\n",
        "  img_dir_2\n",
        "    img_3\n",
        "    img_4\n",
        "    ...\n",
        "  ...\n",
        "```\n",
        "\n"
      ],
      "metadata": {
        "id": "eJxv3OawswX1"
      }
    },
    {
      "cell_type": "code",
      "source": [
        "# Make sure that base dataset directory exists\n",
        "print(\"Dataset Directory Exists: \" + str(os.path.exists(base_dataset_dir)))\n",
        "\n",
        "# Make a dictionary matching img_id -> img_path for all files\n",
        "imageid_path_dict = {os.path.basename(x): x\n",
        "                     for x in glob(os.path.join(base_dataset_dir, '*', '*.' + image_type))}\n",
        "\n",
        "# Print the number of images found in the dictionary for error checking\n",
        "print(\"Number of Images in Dictionary: \" + str(len(imageid_path_dict)))\n",
        "\n",
        "# Map the image ids to their paths\n",
        "df['path'] = df['img_id'].map(imageid_path_dict.get)\n",
        "\n",
        "df.head()"
      ],
      "metadata": {
        "id": "IRzBfmi3gqu8"
      },
      "execution_count": null,
      "outputs": []
    },
    {
      "cell_type": "markdown",
      "source": [
        "Now that we have the dataframe for our dataset all set up, let's look at the distribution of our dataset. For this, we are going to look at the distribution of our labels (to see how imbalanced the dataset is in terms of labels) and the distribution of fitzpatrick types (to see how imbalanced the dataset is in terms of fitzpatrick types).\n",
        "\n",
        "Firstly, we'll define a function which will make these plots for us."
      ],
      "metadata": {
        "id": "OiyHbX6Cvg6L"
      }
    },
    {
      "cell_type": "code",
      "source": [
        "# Given a dataframe and a category, plots a bar chart of those values\n",
        "def show_bar_dist(df, cat):\n",
        "  # Plot the distribution with its percentage.\n",
        "  fig, ax1 = plt.subplots(1, 1, figsize= (10, 5))\n",
        "  ax = df[cat].value_counts().plot(kind='bar', ax=ax1, title=cat + ' Distribution')\n",
        "  ax.bar_label(ax.containers[0])\n",
        "\n",
        "  counts = df[cat].value_counts()\n",
        "  percents = counts.map(lambda x: (x / counts.sum()) * 100.0)\n",
        "  print(\"Percentages: \")\n",
        "  print(percents)"
      ],
      "metadata": {
        "id": "eh6PKr_4e2Zr"
      },
      "execution_count": null,
      "outputs": []
    },
    {
      "cell_type": "code",
      "source": [
        "# Plot the distribution of labels in the dataset\n",
        "show_bar_dist(df, 'label')"
      ],
      "metadata": {
        "colab": {
          "base_uri": "https://localhost:8080/",
          "height": 593
        },
        "id": "jFdYVN9Eft7z",
        "outputId": "894c778d-bda6-4608-d0fb-58f4d15e10d7"
      },
      "execution_count": null,
      "outputs": [
        {
          "output_type": "stream",
          "name": "stdout",
          "text": [
            "Percentages: \n",
            "Malignant    72.891566\n",
            "Benign       27.108434\n",
            "Name: label, dtype: float64\n"
          ]
        },
        {
          "output_type": "display_data",
          "data": {
            "text/plain": [
              "<Figure size 1000x500 with 1 Axes>"
            ],
            "image/png": "[encoded data removed]"
          },
          "metadata": {}
        }
      ]
    },
    {
      "cell_type": "code",
      "source": [
        "# Plot the distribution of aggregated fitzpatrick types in the dataset\n",
        "show_bar_dist(df, 'agg_fitz')"
      ],
      "metadata": {
        "colab": {
          "base_uri": "https://localhost:8080/",
          "height": 560
        },
        "id": "wdwAx5fVf1iy",
        "outputId": "f6aa10a8-a151-40c4-fca4-dd6fc2857154"
      },
      "execution_count": null,
      "outputs": [
        {
          "output_type": "stream",
          "name": "stdout",
          "text": [
            "Percentages: \n",
            "12    68.875502\n",
            "34    30.388220\n",
            "56     0.736278\n",
            "Name: agg_fitz, dtype: float64\n"
          ]
        },
        {
          "output_type": "display_data",
          "data": {
            "text/plain": [
              "<Figure size 1000x500 with 1 Axes>"
            ],
            "image/png": "[encoded data removed]"
          },
          "metadata": {}
        }
      ]
    },
    {
      "cell_type": "markdown",
      "source": [
        "Now, we can split up the dataset into a train set and a test set.\n",
        "\n",
        "Note, because of the size of our datasets (being small), we are not going to have a separate validation set. We will just use our test set as a validation set."
      ],
      "metadata": {
        "id": "vCe66eR4ghf4"
      }
    },
    {
      "cell_type": "code",
      "source": [
        "# Split the dataframe into multiple sets\n",
        "train_df, test_df = train_test_split(df, test_size= 1.0 - TRAIN_SIZE)\n",
        "\n",
        "# Extract the image file paths and labels\n",
        "train_paths = train_df['path'].to_numpy()\n",
        "train_labels = train_df['label_ind'].to_numpy()\n",
        "test_paths = test_df['path'].to_numpy()\n",
        "test_labels = test_df['label_ind'].to_numpy()\n",
        "\n",
        "# Create the dataset objects\n",
        "train_dataset = tf.data.Dataset.from_tensor_slices((train_paths, train_labels))\n",
        "test_dataset = tf.data.Dataset.from_tensor_slices((test_paths, test_labels))"
      ],
      "metadata": {
        "id": "5l3ftZovgjTt"
      },
      "execution_count": null,
      "outputs": []
    },
    {
      "cell_type": "markdown",
      "source": [
        "Now that we have the basic dataset objects, we want to do two things.\n",
        "\n",
        "1. Convert file paths to images (as eager tensors) and resize them to the size that our model requires.\n",
        "2. Optimize our dataset object to improve performance during training/testing."
      ],
      "metadata": {
        "id": "niKfDqCaxfMN"
      }
    },
    {
      "cell_type": "code",
      "source": [
        "# Reads in an image given its file path and resizes it to new_img_size\n",
        "@tf.function\n",
        "def prepare_image(file_path, label):\n",
        "  # Read in the image\n",
        "  image = tf.io.read_file(file_path)\n",
        "  image = tf.image.decode_image(image, channels=3, expand_animations=False)\n",
        "  # Resize the image\n",
        "  image = tf.image.resize(image, new_img_size)\n",
        "  return image, label\n",
        "\n",
        "# Prepare the images for each dataset\n",
        "AUTOTUNE = tf.data.AUTOTUNE\n",
        "train_dataset = train_dataset.map(prepare_image, num_parallel_calls=AUTOTUNE)\n",
        "test_dataset = test_dataset.map(prepare_image, num_parallel_calls=AUTOTUNE)"
      ],
      "metadata": {
        "id": "iY5pwpZm0u7u"
      },
      "execution_count": null,
      "outputs": []
    },
    {
      "cell_type": "code",
      "source": [
        "# Configures a dataset object to increase performance, including batching the dataset\n",
        "def configure_for_performance(ds, batch_size):\n",
        "  ds = ds.cache()\n",
        "  ds = ds.shuffle(buffer_size = 1000)\n",
        "  ds = ds.batch(batch_size)\n",
        "  ds = ds.prefetch(buffer_size = AUTOTUNE)\n",
        "  return ds\n",
        "\n",
        "# Configure both datasets to increase performance\n",
        "train_dataset = configure_for_performance(train_dataset, BATCH_SIZE)\n",
        "test_dataset = configure_for_performance(test_dataset, BATCH_SIZE)"
      ],
      "metadata": {
        "id": "beSYbx1F1GaV"
      },
      "execution_count": null,
      "outputs": []
    },
    {
      "cell_type": "markdown",
      "source": [
        "Now, our datasets are all setup. So, we can begin to setup our model."
      ],
      "metadata": {
        "id": "1dLIYACEyIP2"
      }
    },
    {
      "cell_type": "markdown",
      "source": [
        "## **(b) Setting up Fitzpatrick 17k**"
      ],
      "metadata": {
        "id": "ZhCCUrHNpipR"
      }
    },
    {
      "cell_type": "markdown",
      "source": [
        "Here, we are going to be setting up the Fitzpatrick 17k dataset.\n",
        "\n",
        "**PUBLIC RELEASE NOTE:** This dataset is not publicly available as it is only meant for research. Since it was used during our research, I am leaving it in this file. However, please not that the following code is not meant to be used publicly. Further, some of the variables have been omitted below for privacy reasons."
      ],
      "metadata": {
        "id": "uyCOdfOlyZ0T"
      }
    },
    {
      "cell_type": "markdown",
      "source": [
        "As with the other datasets, we will first start by setting up some variables to match our dataset."
      ],
      "metadata": {
        "id": "vlJT3h1ly64u"
      }
    },
    {
      "cell_type": "code",
      "source": [
        "# VARIABLES TO SET TO MATCH THE DATASET\n",
        "base_dataset_dir = None\n",
        "metadata_path = None\n",
        "ds_path = None\n",
        "\n",
        "# The filetype of the images\n",
        "image_type = 'jpg'\n",
        "\n",
        "# The column that has the file name for each image (usually an id number)\n",
        "img_file_col = 'md5hash'\n",
        "\n",
        "# Dataframe column name with original classification\n",
        "orig_label_col = 'three_partition_label'\n",
        "\n",
        "# The column name with the fitzpatrick score\n",
        "fitz_col = 'fitzpatrick_scale'"
      ],
      "metadata": {
        "id": "ch5rXeUYplLj"
      },
      "execution_count": null,
      "outputs": []
    },
    {
      "cell_type": "code",
      "source": [
        "!unzip \"$ds_path\" -d /content"
      ],
      "metadata": {
        "id": "3tUG_dGzp061"
      },
      "execution_count": null,
      "outputs": []
    },
    {
      "cell_type": "markdown",
      "source": [
        "Now that the dataset has been unzipped, we can start to process it by setting up the metadata with a dataframe."
      ],
      "metadata": {
        "id": "09EnXL3ZzMt4"
      }
    },
    {
      "cell_type": "code",
      "source": [
        "classes = ['Benign', 'Malignant']\n",
        "\n",
        "# Read in the metadata\n",
        "df = pd.read_csv(metadata_path)\n",
        "\n",
        "# Make a dictionary matching imgage id -> image path for all files\n",
        "imageid_path_dict = {os.path.basename(x): x\n",
        "                     for x in glob(os.path.join(base_dataset_dir, '*', '*.' + image_type))}\n",
        "\n",
        "# Add image paths to the dataframe\n",
        "df['path'] = df[img_file_col].map(imageid_path_dict.get)\n",
        "\n",
        "# Print a summary of the files found and the existing file counts for error checking\n",
        "print(\"Number of Image Paths Found:          \" + str(len(imageid_path_dict)))\n",
        "print(\"Number of Images in DataFrame:        \" + str(len(df)))\n",
        "print(\"Number of Images in Target Directory: \", end='')\n",
        "!ls /content/data/finalfitz17k -1 | wc -l"
      ],
      "metadata": {
        "colab": {
          "base_uri": "https://localhost:8080/"
        },
        "id": "axSwTTIXqJyP",
        "outputId": "94d19157-6021-4b8f-967c-7f59831fc057"
      },
      "execution_count": null,
      "outputs": [
        {
          "output_type": "stream",
          "name": "stdout",
          "text": [
            "Number of Image Paths Found:          16577\n",
            "Number of Images in DataFrame:        16577\n",
            "Number of Images in Target Directory: 16577\n"
          ]
        }
      ]
    },
    {
      "cell_type": "markdown",
      "source": [
        "Now, we can go ahead and convert our existing labels (benign, malignant, non-neoplastic), into binary labels (0, 1). We are also going to get rid of all images that are labeled as non-neoplastic and any images which don't have fitzpatrick data."
      ],
      "metadata": {
        "id": "PDisvrQbz6kT"
      }
    },
    {
      "cell_type": "code",
      "source": [
        "# Define a dictionary to map labels to integer labels\n",
        "class_dict = {\n",
        "    'benign': 0,\n",
        "    'malignant': 1,\n",
        "    'non-neoplastic': -1\n",
        "}\n",
        "\n",
        "# Extend the dataframe to have the refined labels\n",
        "df['label_ind'] = df[orig_label_col].map(class_dict.get)\n",
        "df['label'] = df['label_ind'].map(lambda x: classes[x])\n",
        "\n",
        "# Drop all data points without a Fitzpatrick rating\n",
        "df = df[df[fitz_col].notna()]\n",
        "\n",
        "# Drop all data points that are in non-neoplastic\n",
        "df = df[df['label_ind'] != -1]\n",
        "\n",
        "df.head()"
      ],
      "metadata": {
        "id": "EkDVtbIGqP5Y"
      },
      "execution_count": null,
      "outputs": []
    },
    {
      "cell_type": "markdown",
      "source": [
        "Since we have done a separate analysis on this dataset in another notebook, I have not provided any code to analyze the distribution of various parameters here. Please see the more in-depth notebook on analyzing this dataset for such information."
      ],
      "metadata": {
        "id": "u6ckjajK1LD3"
      }
    },
    {
      "cell_type": "markdown",
      "source": [
        "Now that the dataframe is setup, we are going to make the actual dataset objects. As usual, we are going to do an 80-20 split here."
      ],
      "metadata": {
        "id": "u1i3QBhV1eRB"
      }
    },
    {
      "cell_type": "code",
      "source": [
        "# Split the dataframe into multiple sets\n",
        "train_df, test_df = train_test_split(df, test_size = 1.0 - TRAIN_SIZE)\n",
        "\n",
        "# Extract the image file paths and labels\n",
        "train_paths = train_df['path'].to_numpy()\n",
        "train_labels = train_df['label_ind'].to_numpy()\n",
        "test_paths = test_df['path'].to_numpy()\n",
        "test_labels = test_df['label_ind'].to_numpy()\n",
        "\n",
        "# Create the dataset objects\n",
        "train_dataset = tf.data.Dataset.from_tensor_slices((train_paths, train_labels))\n",
        "test_dataset = tf.data.Dataset.from_tensor_slices((test_paths, test_labels))"
      ],
      "metadata": {
        "id": "88LZY0mX1nuP"
      },
      "execution_count": null,
      "outputs": []
    },
    {
      "cell_type": "markdown",
      "source": [
        "Now that we have the basic dataset objects, we want to do two things.\n",
        "\n",
        "1. Convert file paths to images (as eager tensors) and resize them to the size that our model requires.\n",
        "2. Optimize our dataset object to improve performance during training/testing."
      ],
      "metadata": {
        "id": "N1r19RiY1yvd"
      }
    },
    {
      "cell_type": "code",
      "source": [
        "# Reads in an image given its file path and resizes it to new_img_size\n",
        "@tf.function\n",
        "def prepare_image(file_path, label):\n",
        "  # Read in the image\n",
        "  image = tf.io.read_file(file_path)\n",
        "  image = tf.image.decode_image(image, channels=3, expand_animations=False)\n",
        "  # Resize the image\n",
        "  image = tf.image.resize(image, new_img_size)\n",
        "  return image, label\n",
        "\n",
        "# Prepare the images for each dataset\n",
        "AUTOTUNE = tf.data.AUTOTUNE\n",
        "train_dataset = train_dataset.map(prepare_image, num_parallel_calls=AUTOTUNE)\n",
        "test_dataset = test_dataset.map(prepare_image, num_parallel_calls=AUTOTUNE)"
      ],
      "metadata": {
        "id": "C1YeSuuS1o9q"
      },
      "execution_count": null,
      "outputs": []
    },
    {
      "cell_type": "code",
      "source": [
        "# Configures a dataset object to increase performance, including batching the dataset\n",
        "def configure_for_performance(ds, batch_size):\n",
        "  ds = ds.cache()\n",
        "  ds = ds.shuffle(buffer_size = 1000)\n",
        "  ds = ds.batch(batch_size)\n",
        "  ds = ds.prefetch(buffer_size=AUTOTUNE)\n",
        "  return ds\n",
        "\n",
        "# Configure both datasets to increase performance\n",
        "train_dataset = configure_for_performance(train_dataset, BATCH_SIZE)\n",
        "test_dataset = configure_for_performance(test_dataset, BATCH_SIZE)"
      ],
      "metadata": {
        "id": "FCz20L7C1pLe"
      },
      "execution_count": null,
      "outputs": []
    },
    {
      "cell_type": "markdown",
      "source": [
        "Now our dataset is all ready to use so we can start setting up our model."
      ],
      "metadata": {
        "id": "Wh4dIVt_15Nh"
      }
    },
    {
      "cell_type": "markdown",
      "source": [
        "## **(c) Setting up HAM 10000**"
      ],
      "metadata": {
        "id": "kXTddpPGqHL2"
      }
    },
    {
      "cell_type": "markdown",
      "source": [
        "Here, we are going to be setting up the HAM 10000 dataset."
      ],
      "metadata": {
        "id": "PGPDWiGI4cwe"
      }
    },
    {
      "cell_type": "code",
      "source": [
        "# VARIABLES TO CHANGE WHEN CHANGING DATASETS\n",
        "# The file type of the images\n",
        "image_type = 'jpg'\n",
        "\n",
        "# The csv file containing metadata. Should be directly in datasets directory\n",
        "metadata_filename = None\n",
        "\n",
        "# Column names from the metadata\n",
        "label_col_name = 'dx'     # The name of the column which contains the provided label (eg nv, mel, bkl, etc.)\n",
        "data_key = 'image_id'     # The name of the column which can uniquely identify an image (usually the filename)\n",
        "\n",
        "# Set up a dictionary to classify as Melanoma, Carcinoma, or Benign\n",
        "lesion_type_dict = {\n",
        "    'nv': 'Benign',            # Melanocytic nevi (Pre-Cancerous)\n",
        "    'mel': 'Malignant',         # Melanoma\n",
        "    'bkl': 'Benign',           # Benign keratosis-like lesions\n",
        "    'bcc': 'Malignant',        # Basal cell carcinoma\n",
        "    'akiec': 'Benign',         # Actinic keratoses (Pre-Cancerous)\n",
        "    'vasc': 'Benign',          # Vascular lesions\n",
        "    'df': 'Benign'             # Dermatofibroma\n",
        "}"
      ],
      "metadata": {
        "id": "-2-Ba2Zeddl7"
      },
      "execution_count": null,
      "outputs": []
    },
    {
      "cell_type": "markdown",
      "source": [
        "Firstly, we just want to unzip the dataset and put everything in one folder so that we can process everything.\n",
        "\n",
        "For this dataset, you should have downloaded it using the kaggle API, so if you encounter an error, just make sure that the file path for the zip file is correct."
      ],
      "metadata": {
        "id": "zj0D7wwlYBEb"
      }
    },
    {
      "cell_type": "code",
      "source": [
        "# Unzip the dataset\n",
        "!mkdir dataset\n",
        "!unzip '/content/skin-cancer-mnist-ham10000.zip' -d dataset\n",
        "beep()"
      ],
      "metadata": {
        "id": "RVMwJlxoniRh"
      },
      "execution_count": null,
      "outputs": []
    },
    {
      "cell_type": "markdown",
      "source": [
        "Now, with this dataset, we get some unnecessary duplicate folders. So, we are just going to delete those here."
      ],
      "metadata": {
        "id": "U8KefJift0TW"
      }
    },
    {
      "cell_type": "code",
      "source": [
        "# Remove duplicate folders\n",
        "!rm -r '/content/dataset/ham10000_images_part_1'\n",
        "!rm -r '/content/dataset/ham10000_images_part_2'"
      ],
      "metadata": {
        "id": "M26aaiqys0sT"
      },
      "execution_count": null,
      "outputs": []
    },
    {
      "cell_type": "markdown",
      "source": [
        "Since we have multiple folders of images, we want to have a list of all of the images (meaning their filepaths) in one place, so that we can easily process everything. Make sure that the number of images that we read match what was expected."
      ],
      "metadata": {
        "id": "aPtqL1drvEAJ"
      }
    },
    {
      "cell_type": "code",
      "source": [
        "# Setup the filepath for the base directory of the dataset\n",
        "base_dataset_dir = '/content/dataset'\n",
        "print(\"Dataset Directory Exists: \" + str(os.path.exists(base_dataset_dir)))\n",
        "\n",
        "# Make a dictionary with all file paths from specified folders\n",
        "imageid_path_dict = {os.path.splitext(os.path.basename(x))[0]: x\n",
        "                     for x in glob(os.path.join(base_dataset_dir, '*', '*.' + image_type))}\n",
        "\n",
        "# Print a report on the number of images found\n",
        "print(\"Number of Images: \" + str(len(imageid_path_dict)))"
      ],
      "metadata": {
        "colab": {
          "base_uri": "https://localhost:8080/"
        },
        "id": "UM7K3Rd1qh6H",
        "outputId": "2f1b0f92-6b52-4080-e71c-4c2f8a8ea3e2"
      },
      "execution_count": null,
      "outputs": [
        {
          "output_type": "stream",
          "name": "stdout",
          "text": [
            "Dataset Directory Exists: True\n",
            "Number of Images: 10015\n"
          ]
        }
      ]
    },
    {
      "cell_type": "markdown",
      "source": [
        "Since for our dataset, we are given a folder(s) of images without their labels directly attached, we first have to process the pictures to match everything up with their labels. To do this, we have to process the metadata csv file which contains all of the metadata for each image, which includes their label.\n",
        "\n",
        "This can be done basically automatically by the pandas library, which will put it into something called a DataFrame (hence the df). It is basically just a 2D array where each row is one line from the csv file, meaning one line is the information for one image.\n",
        "\n",
        "Now we can begin to process the metadata. The dataset should have a csv file with the metadata. Make sure that it is directly in dataset folder.\n",
        "\n"
      ],
      "metadata": {
        "id": "GAUDkn0aw-Na"
      }
    },
    {
      "cell_type": "code",
      "source": [
        "# Read the metadata csv file\n",
        "df = pd.read_csv(os.path.join(base_dataset_dir, metadata_filename))\n",
        "\n",
        "# Print an overview of the dataframe\n",
        "df.info()"
      ],
      "metadata": {
        "id": "7U07T1N1rXhY",
        "colab": {
          "base_uri": "https://localhost:8080/"
        },
        "outputId": "77aab3a5-3a17-43cd-cadf-6d66fce673e4"
      },
      "execution_count": null,
      "outputs": [
        {
          "output_type": "stream",
          "name": "stdout",
          "text": [
            "<class 'pandas.core.frame.DataFrame'>\n",
            "RangeIndex: 10015 entries, 0 to 10014\n",
            "Data columns (total 7 columns):\n",
            " #   Column        Non-Null Count  Dtype  \n",
            "---  ------        --------------  -----  \n",
            " 0   lesion_id     10015 non-null  object \n",
            " 1   image_id      10015 non-null  object \n",
            " 2   dx            10015 non-null  object \n",
            " 3   dx_type       10015 non-null  object \n",
            " 4   age           9958 non-null   float64\n",
            " 5   sex           10015 non-null  object \n",
            " 6   localization  10015 non-null  object \n",
            "dtypes: float64(1), object(6)\n",
            "memory usage: 547.8+ KB\n"
          ]
        }
      ]
    },
    {
      "cell_type": "markdown",
      "source": [
        "Now, since we are really only interested in classifying as melanoma, carcinoma, or benign, we need to alter our metadata a little bit to reflect this. Make sure that they keys of the lesion_type_dict reflect what is in the dataset.\n",
        "\n",
        "As a note, we have to make some decisions regarding the classification of pre-cancerous skin lesions. Melanocytic nevi and Actinic keratoses are both considered pre-cancerous. However, since all of these diagnoses have been confirmed with histopathology, we can consider them to be non-cancerous.\n",
        "\n",
        "Here, we are going to add the file paths, binary labels (Benign/Maligmant) and our binary label indexes (0, 1) to each image in our dataframe."
      ],
      "metadata": {
        "id": "PdJJSl2uyjL6"
      }
    },
    {
      "cell_type": "code",
      "source": [
        "# Create a map for for our binary labels\n",
        "label_ind_dict = {\n",
        "    'Benign': 0,\n",
        "    'Malignant': 1\n",
        "}\n",
        "\n",
        "# Add file paths, labels, and label indexes to the dataframe\n",
        "df['path'] = df[data_key].map(imageid_path_dict.get)          # Get a filepath for each image\n",
        "df['label'] = df[label_col_name].map(lesion_type_dict.get)    # Use the lesion dictionary to map lesion type to classification\n",
        "df['label_ind'] = df['label'].map(label_ind_dict.get)\n",
        "\n",
        "# Print the first few items in the metadata dataframe as an example\n",
        "df.head()"
      ],
      "metadata": {
        "id": "p2bKER6xxh51",
        "colab": {
          "base_uri": "https://localhost:8080/",
          "height": 270
        },
        "outputId": "23f00cd2-8333-4e0e-b20b-fa30ff176fed"
      },
      "execution_count": null,
      "outputs": [
        {
          "output_type": "execute_result",
          "data": {
            "text/plain": [
              "     lesion_id      image_id   dx dx_type   age   sex localization  \\\n",
              "0  HAM_0000118  ISIC_0027419  bkl   histo  80.0  male        scalp   \n",
              "1  HAM_0000118  ISIC_0025030  bkl   histo  80.0  male        scalp   \n",
              "2  HAM_0002730  ISIC_0026769  bkl   histo  80.0  male        scalp   \n",
              "3  HAM_0002730  ISIC_0025661  bkl   histo  80.0  male        scalp   \n",
              "4  HAM_0001466  ISIC_0031633  bkl   histo  75.0  male          ear   \n",
              "\n",
              "                                                path   label  label_ind  \n",
              "0  /content/dataset/HAM10000_images_part_1/ISIC_0...  Benign          0  \n",
              "1  /content/dataset/HAM10000_images_part_1/ISIC_0...  Benign          0  \n",
              "2  /content/dataset/HAM10000_images_part_1/ISIC_0...  Benign          0  \n",
              "3  /content/dataset/HAM10000_images_part_1/ISIC_0...  Benign          0  \n",
              "4  /content/dataset/HAM10000_images_part_2/ISIC_0...  Benign          0  "
            ],
            "text/html": [
              "\n",
              "\n",
              "  <div id=\"df-7ce75e76-dac7-44ad-bc34-938633ba2520\">\n",
              "    <div class=\"colab-df-container\">\n",
              "      <div>\n",
              "<style scoped>\n",
              "    .dataframe tbody tr th:only-of-type {\n",
              "        vertical-align: middle;\n",
              "    }\n",
              "\n",
              "    .dataframe tbody tr th {\n",
              "        vertical-align: top;\n",
              "    }\n",
              "\n",
              "    .dataframe thead th {\n",
              "        text-align: right;\n",
              "    }\n",
              "</style>\n",
              "<table border=\"1\" class=\"dataframe\">\n",
              "  <thead>\n",
              "    <tr style=\"text-align: right;\">\n",
              "      <th></th>\n",
              "      <th>lesion_id</th>\n",
              "      <th>image_id</th>\n",
              "      <th>dx</th>\n",
              "      <th>dx_type</th>\n",
              "      <th>age</th>\n",
              "      <th>sex</th>\n",
              "      <th>localization</th>\n",
              "      <th>path</th>\n",
              "      <th>label</th>\n",
              "      <th>label_ind</th>\n",
              "    </tr>\n",
              "  </thead>\n",
              "  <tbody>\n",
              "    <tr>\n",
              "      <th>0</th>\n",
              "      <td>HAM_0000118</td>\n",
              "      <td>ISIC_0027419</td>\n",
              "      <td>bkl</td>\n",
              "      <td>histo</td>\n",
              "      <td>80.0</td>\n",
              "      <td>male</td>\n",
              "      <td>scalp</td>\n",
              "      <td>/content/dataset/HAM10000_images_part_1/ISIC_0...</td>\n",
              "      <td>Benign</td>\n",
              "      <td>0</td>\n",
              "    </tr>\n",
              "    <tr>\n",
              "      <th>1</th>\n",
              "      <td>HAM_0000118</td>\n",
              "      <td>ISIC_0025030</td>\n",
              "      <td>bkl</td>\n",
              "      <td>histo</td>\n",
              "      <td>80.0</td>\n",
              "      <td>male</td>\n",
              "      <td>scalp</td>\n",
              "      <td>/content/dataset/HAM10000_images_part_1/ISIC_0...</td>\n",
              "      <td>Benign</td>\n",
              "      <td>0</td>\n",
              "    </tr>\n",
              "    <tr>\n",
              "      <th>2</th>\n",
              "      <td>HAM_0002730</td>\n",
              "      <td>ISIC_0026769</td>\n",
              "      <td>bkl</td>\n",
              "      <td>histo</td>\n",
              "      <td>80.0</td>\n",
              "      <td>male</td>\n",
              "      <td>scalp</td>\n",
              "      <td>/content/dataset/HAM10000_images_part_1/ISIC_0...</td>\n",
              "      <td>Benign</td>\n",
              "      <td>0</td>\n",
              "    </tr>\n",
              "    <tr>\n",
              "      <th>3</th>\n",
              "      <td>HAM_0002730</td>\n",
              "      <td>ISIC_0025661</td>\n",
              "      <td>bkl</td>\n",
              "      <td>histo</td>\n",
              "      <td>80.0</td>\n",
              "      <td>male</td>\n",
              "      <td>scalp</td>\n",
              "      <td>/content/dataset/HAM10000_images_part_1/ISIC_0...</td>\n",
              "      <td>Benign</td>\n",
              "      <td>0</td>\n",
              "    </tr>\n",
              "    <tr>\n",
              "      <th>4</th>\n",
              "      <td>HAM_0001466</td>\n",
              "      <td>ISIC_0031633</td>\n",
              "      <td>bkl</td>\n",
              "      <td>histo</td>\n",
              "      <td>75.0</td>\n",
              "      <td>male</td>\n",
              "      <td>ear</td>\n",
              "      <td>/content/dataset/HAM10000_images_part_2/ISIC_0...</td>\n",
              "      <td>Benign</td>\n",
              "      <td>0</td>\n",
              "    </tr>\n",
              "  </tbody>\n",
              "</table>\n",
              "</div>\n",
              "      <button class=\"colab-df-convert\" onclick=\"convertToInteractive('df-7ce75e76-dac7-44ad-bc34-938633ba2520')\"\n",
              "              title=\"Convert this dataframe to an interactive table.\"\n",
              "              style=\"display:none;\">\n",
              "\n",
              "  <svg xmlns=\"http://www.w3.org/2000/svg\" height=\"24px\"viewBox=\"0 0 24 24\"\n",
              "       width=\"24px\">\n",
              "    <path d=\"M0 0h24v24H0V0z\" fill=\"none\"/>\n",
              "    <path d=\"M18.56 5.44l.94 2.06.94-2.06 2.06-.94-2.06-.94-.94-2.06-.94 2.06-2.06.94zm-11 1L8.5 8.5l.94-2.06 2.06-.94-2.06-.94L8.5 2.5l-.94 2.06-2.06.94zm10 10l.94 2.06.94-2.06 2.06-.94-2.06-.94-.94-2.06-.94 2.06-2.06.94z\"/><path d=\"M17.41 7.96l-1.37-1.37c-.4-.4-.92-.59-1.43-.59-.52 0-1.04.2-1.43.59L10.3 9.45l-7.72 7.72c-.78.78-.78 2.05 0 2.83L4 21.41c.39.39.9.59 1.41.59.51 0 1.02-.2 1.41-.59l7.78-7.78 2.81-2.81c.8-.78.8-2.07 0-2.86zM5.41 20L4 18.59l7.72-7.72 1.47 1.35L5.41 20z\"/>\n",
              "  </svg>\n",
              "      </button>\n",
              "\n",
              "\n",
              "\n",
              "    <div id=\"df-8db84a89-b3d0-4d94-8cc6-a857b612c13c\">\n",
              "      <button class=\"colab-df-quickchart\" onclick=\"quickchart('df-8db84a89-b3d0-4d94-8cc6-a857b612c13c')\"\n",
              "              title=\"Suggest charts.\"\n",
              "              style=\"display:none;\">\n",
              "\n",
              "<svg xmlns=\"http://www.w3.org/2000/svg\" height=\"24px\"viewBox=\"0 0 24 24\"\n",
              "     width=\"24px\">\n",
              "    <g>\n",
              "        <path d=\"M19 3H5c-1.1 0-2 .9-2 2v14c0 1.1.9 2 2 2h14c1.1 0 2-.9 2-2V5c0-1.1-.9-2-2-2zM9 17H7v-7h2v7zm4 0h-2V7h2v10zm4 0h-2v-4h2v4z\"/>\n",
              "    </g>\n",
              "</svg>\n",
              "      </button>\n",
              "    </div>\n",
              "\n",
              "<style>\n",
              "  .colab-df-quickchart {\n",
              "    background-color: #E8F0FE;\n",
              "    border: none;\n",
              "    border-radius: 50%;\n",
              "    cursor: pointer;\n",
              "    display: none;\n",
              "    fill: #1967D2;\n",
              "    height: 32px;\n",
              "    padding: 0 0 0 0;\n",
              "    width: 32px;\n",
              "  }\n",
              "\n",
              "  .colab-df-quickchart:hover {\n",
              "    background-color: #E2EBFA;\n",
              "    box-shadow: 0px 1px 2px rgba(60, 64, 67, 0.3), 0px 1px 3px 1px rgba(60, 64, 67, 0.15);\n",
              "    fill: #174EA6;\n",
              "  }\n",
              "\n",
              "  [theme=dark] .colab-df-quickchart {\n",
              "    background-color: #3B4455;\n",
              "    fill: #D2E3FC;\n",
              "  }\n",
              "\n",
              "  [theme=dark] .colab-df-quickchart:hover {\n",
              "    background-color: #434B5C;\n",
              "    box-shadow: 0px 1px 3px 1px rgba(0, 0, 0, 0.15);\n",
              "    filter: drop-shadow(0px 1px 2px rgba(0, 0, 0, 0.3));\n",
              "    fill: #FFFFFF;\n",
              "  }\n",
              "</style>\n",
              "\n",
              "    <script>\n",
              "      async function quickchart(key) {\n",
              "        const containerElement = document.querySelector('#' + key);\n",
              "        const charts = await google.colab.kernel.invokeFunction(\n",
              "            'suggestCharts', [key], {});\n",
              "      }\n",
              "    </script>\n",
              "\n",
              "      <script>\n",
              "\n",
              "function displayQuickchartButton(domScope) {\n",
              "  let quickchartButtonEl =\n",
              "    domScope.querySelector('#df-8db84a89-b3d0-4d94-8cc6-a857b612c13c button.colab-df-quickchart');\n",
              "  quickchartButtonEl.style.display =\n",
              "    google.colab.kernel.accessAllowed ? 'block' : 'none';\n",
              "}\n",
              "\n",
              "        displayQuickchartButton(document);\n",
              "      </script>\n",
              "      <style>\n",
              "    .colab-df-container {\n",
              "      display:flex;\n",
              "      flex-wrap:wrap;\n",
              "      gap: 12px;\n",
              "    }\n",
              "\n",
              "    .colab-df-convert {\n",
              "      background-color: #E8F0FE;\n",
              "      border: none;\n",
              "      border-radius: 50%;\n",
              "      cursor: pointer;\n",
              "      display: none;\n",
              "      fill: #1967D2;\n",
              "      height: 32px;\n",
              "      padding: 0 0 0 0;\n",
              "      width: 32px;\n",
              "    }\n",
              "\n",
              "    .colab-df-convert:hover {\n",
              "      background-color: #E2EBFA;\n",
              "      box-shadow: 0px 1px 2px rgba(60, 64, 67, 0.3), 0px 1px 3px 1px rgba(60, 64, 67, 0.15);\n",
              "      fill: #174EA6;\n",
              "    }\n",
              "\n",
              "    [theme=dark] .colab-df-convert {\n",
              "      background-color: #3B4455;\n",
              "      fill: #D2E3FC;\n",
              "    }\n",
              "\n",
              "    [theme=dark] .colab-df-convert:hover {\n",
              "      background-color: #434B5C;\n",
              "      box-shadow: 0px 1px 3px 1px rgba(0, 0, 0, 0.15);\n",
              "      filter: drop-shadow(0px 1px 2px rgba(0, 0, 0, 0.3));\n",
              "      fill: #FFFFFF;\n",
              "    }\n",
              "  </style>\n",
              "\n",
              "      <script>\n",
              "        const buttonEl =\n",
              "          document.querySelector('#df-7ce75e76-dac7-44ad-bc34-938633ba2520 button.colab-df-convert');\n",
              "        buttonEl.style.display =\n",
              "          google.colab.kernel.accessAllowed ? 'block' : 'none';\n",
              "\n",
              "        async function convertToInteractive(key) {\n",
              "          const element = document.querySelector('#df-7ce75e76-dac7-44ad-bc34-938633ba2520');\n",
              "          const dataTable =\n",
              "            await google.colab.kernel.invokeFunction('convertToInteractive',\n",
              "                                                     [key], {});\n",
              "          if (!dataTable) return;\n",
              "\n",
              "          const docLinkHtml = 'Like what you see? Visit the ' +\n",
              "            '<a target=\"_blank\" href=https://colab.research.google.com/notebooks/data_table.ipynb>data table notebook</a>'\n",
              "            + ' to learn more about interactive tables.';\n",
              "          element.innerHTML = '';\n",
              "          dataTable['output_type'] = 'display_data';\n",
              "          await google.colab.output.renderOutput(dataTable, element);\n",
              "          const docLink = document.createElement('div');\n",
              "          docLink.innerHTML = docLinkHtml;\n",
              "          element.appendChild(docLink);\n",
              "        }\n",
              "      </script>\n",
              "    </div>\n",
              "  </div>\n"
            ]
          },
          "metadata": {},
          "execution_count": 7
        }
      ]
    },
    {
      "cell_type": "markdown",
      "source": [
        "Here we can also visualize the distribution of the dataset for different categories. Play around with it to find out more about the dataset."
      ],
      "metadata": {
        "id": "1HZqYei46usN"
      }
    },
    {
      "cell_type": "code",
      "source": [
        "# CHANGE THIS TO PLOT DIFFERENT CATEGORIES\n",
        "category_to_chart = 'label'\n",
        "\n",
        "# Plot the distribution with its percentage.\n",
        "fig, ax1 = plt.subplots(1, 1, figsize= (10, 5))\n",
        "ax = df[category_to_chart].value_counts().plot(kind='bar', ax=ax1, title='Attribute Count')\n",
        "ax.bar_label(ax.containers[0])\n",
        "\n",
        "counts = df[category_to_chart].value_counts()\n",
        "percents = counts.map(lambda x: (x / counts.sum()) * 100.0)\n",
        "print(\"Percentages: \")\n",
        "print(percents)"
      ],
      "metadata": {
        "id": "loi5I0th6c43",
        "colab": {
          "base_uri": "https://localhost:8080/",
          "height": 593
        },
        "outputId": "9885b551-6f78-4cfc-ed1a-a7a44bc85d0a"
      },
      "execution_count": null,
      "outputs": [
        {
          "output_type": "stream",
          "name": "stdout",
          "text": [
            "Percentages: \n",
            "Benign       83.754368\n",
            "Malignant    16.245632\n",
            "Name: label, dtype: float64\n"
          ]
        },
        {
          "output_type": "display_data",
          "data": {
            "text/plain": [
              "<Figure size 1000x500 with 1 Axes>"
            ],
            "image/png": "[encoded data removed]"
          },
          "metadata": {}
        }
      ]
    },
    {
      "cell_type": "markdown",
      "source": [
        "Notice how there's an imbalance in the data. When looking at 'label' (for the HAM10000 dataset), 83.7% of images are benign. This is going to provide some troubles when we want to train as we want these numbers to ideally be more equal."
      ],
      "metadata": {
        "id": "XMEzV3spty8N"
      }
    },
    {
      "cell_type": "markdown",
      "source": [
        "Now, we can go ahead and create our dataset objects. We will make one training and one testing set."
      ],
      "metadata": {
        "id": "ddeYlAw76BeG"
      }
    },
    {
      "cell_type": "code",
      "source": [
        "# Split the dataframe into multiple sets\n",
        "train_df, test_df = train_test_split(df, test_size = 1.0 - TRAIN_SIZE)\n",
        "\n",
        "# Extract the image file paths and labels\n",
        "train_paths = train_df['path'].to_numpy()\n",
        "train_labels = train_df['label_ind'].to_numpy()\n",
        "test_paths = test_df['path'].to_numpy()\n",
        "test_labels = test_df['label_ind'].to_numpy()\n",
        "\n",
        "# Create the dataset objects\n",
        "train_dataset = tf.data.Dataset.from_tensor_slices((train_paths, train_labels))\n",
        "test_dataset = tf.data.Dataset.from_tensor_slices((test_paths, test_labels))"
      ],
      "metadata": {
        "id": "afIanlim6JP9"
      },
      "execution_count": null,
      "outputs": []
    },
    {
      "cell_type": "markdown",
      "source": [
        "Now that we have the basic dataset objects, we want to do two things.\n",
        "\n",
        "1. Convert file paths to images (as eager tensors) and resize them to the size that our model requires.\n",
        "2. Optimize our dataset object to improve performance during training/testing."
      ],
      "metadata": {
        "id": "SMz41Gcv6Po1"
      }
    },
    {
      "cell_type": "code",
      "source": [
        "# Reads in an image given its file path and resizes it to new_img_size\n",
        "@tf.function\n",
        "def prepare_image(file_path, label):\n",
        "  # Read in the image\n",
        "  image = tf.io.read_file(file_path)\n",
        "  image = tf.image.decode_image(image, channels=3, expand_animations=False)\n",
        "  # Resize the image\n",
        "  image = tf.image.resize(image, new_img_size)\n",
        "  return image, label\n",
        "\n",
        "# Prepare the images for each dataset\n",
        "AUTOTUNE = tf.data.AUTOTUNE\n",
        "train_dataset = train_dataset.map(prepare_image, num_parallel_calls=AUTOTUNE)\n",
        "test_dataset = test_dataset.map(prepare_image, num_parallel_calls=AUTOTUNE)"
      ],
      "metadata": {
        "id": "cRnaZvGn6QcI"
      },
      "execution_count": null,
      "outputs": []
    },
    {
      "cell_type": "code",
      "source": [
        "# Configures a dataset object to increase performance, including batching the dataset\n",
        "def configure_for_performance(ds, batch_size):\n",
        "  ds = ds.cache()\n",
        "  ds = ds.shuffle(buffer_size = 1000)\n",
        "  ds = ds.batch(batch_size)\n",
        "  ds = ds.prefetch(buffer_size=AUTOTUNE)\n",
        "  return ds\n",
        "\n",
        "# Configure both datasets to increase performance\n",
        "train_dataset = configure_for_performance(train_dataset, BATCH_SIZE)\n",
        "test_dataset = configure_for_performance(test_dataset, BATCH_SIZE)"
      ],
      "metadata": {
        "id": "qmS1NQSD6Q04"
      },
      "execution_count": null,
      "outputs": []
    },
    {
      "cell_type": "markdown",
      "source": [
        "Now, our dataset is ready to use. So, we can start setting up our model."
      ],
      "metadata": {
        "id": "ngpRkDb56Xp1"
      }
    },
    {
      "cell_type": "markdown",
      "source": [
        "## **(d) Setting up ISIC Benign/Malignant**"
      ],
      "metadata": {
        "id": "-33iwpQekt1y"
      }
    },
    {
      "cell_type": "markdown",
      "source": [
        "The ISIC Benign/Malignant dataset comes in a different format from the other datasets. This means that we will use a different process. However, because of how this one is setup, it is much easier to actually create our datasets as we can use the tf.keras.utils.image_dataset_from_directory method."
      ],
      "metadata": {
        "id": "S_4EW_ab7P-B"
      }
    },
    {
      "cell_type": "markdown",
      "source": [
        "The first thing that we are going to do, is just do some error checking and see the number of files in each directory. We will then use these numbers later to analyze the distribution of our dataset."
      ],
      "metadata": {
        "id": "O3gHOKiZ7kcr"
      }
    },
    {
      "cell_type": "code",
      "source": [
        "# Define the paths for the training and testing directory of images\n",
        "train_path = '/content/dataset/data/train'\n",
        "test_path = '/content/dataset/data/test'\n",
        "\n",
        "# Returns the number of files within a directory, given the path to the directory\n",
        "def get_num_files(dir_path):\n",
        "  count = 0\n",
        "  for path in os.listdir(dir_path):\n",
        "      if os.path.isfile(os.path.join(dir_path, path)):\n",
        "          count += 1\n",
        "  return count\n",
        "\n",
        "# Get the number of files in each image directory\n",
        "num_train_ben = get_num_files(train_path + '/benign')\n",
        "num_train_mal = get_num_files(train_path + '/malignant')\n",
        "num_test_ben = get_num_files(test_path + '/benign')\n",
        "num_test_mal = get_num_files(test_path + '/malignant')\n",
        "\n",
        "# Create a list for each dataset distribution\n",
        "train_dist = [num_train_ben, num_train_mal]\n",
        "test_dist = [num_test_ben, num_test_mal]"
      ],
      "metadata": {
        "id": "OjIddompXjYt"
      },
      "execution_count": null,
      "outputs": []
    },
    {
      "cell_type": "markdown",
      "source": [
        "Now, let's plot the distribution of our datasets."
      ],
      "metadata": {
        "id": "3d0yC6Lm75mn"
      }
    },
    {
      "cell_type": "code",
      "source": [
        "# Plot the distribution with its percentage.\n",
        "fig = plt.figure(figsize=(10, 5))\n",
        "\n",
        "# Plot the train distribution\n",
        "ax1 = fig.add_subplot(1, 2, 1)\n",
        "ax1.bar(['Benign', 'Malignant'], train_dist)\n",
        "ax1.bar_label(ax1.containers[0])\n",
        "plt.title('Training Distribution')\n",
        "\n",
        "# Plot the test distribution\n",
        "ax2 = fig.add_subplot(1, 2, 2)\n",
        "ax2.bar(['Benign', 'Malignant'], test_dist)\n",
        "ax2.bar_label(ax2.containers[0])\n",
        "plt.title(\"Testing Distribution\")"
      ],
      "metadata": {
        "colab": {
          "base_uri": "https://localhost:8080/",
          "height": 486
        },
        "id": "LshR95sjXKBR",
        "outputId": "2540979a-3317-4a53-96ab-0a66d9d5ce76"
      },
      "execution_count": null,
      "outputs": [
        {
          "output_type": "execute_result",
          "data": {
            "text/plain": [
              "Text(0.5, 1.0, 'Testing Distribution')"
            ]
          },
          "metadata": {},
          "execution_count": 26
        },
        {
          "output_type": "display_data",
          "data": {
            "text/plain": [
              "<Figure size 1000x500 with 2 Axes>"
            ],
            "image/png": "[encoded data removed]"
          },
          "metadata": {}
        }
      ]
    },
    {
      "cell_type": "code",
      "source": [
        "# Create the training dataset\n",
        "train_dataset = tf.keras.utils.image_dataset_from_directory(\n",
        "    train_path,\n",
        "    labels = \"inferred\",\n",
        "    batch_size = BATCH_SIZE,\n",
        "    image_size = new_img_size\n",
        ")\n",
        "\n",
        "# Create the testing dataset\n",
        "test_dataset = tf.keras.utils.image_dataset_from_directory(\n",
        "    test_path,\n",
        "    labels = \"inferred\",\n",
        "    batch_size = BATCH_SIZE,\n",
        "    image_size = new_img_size\n",
        ")\n",
        "\n",
        "# Retrieve and print the list of class names for the dataset\n",
        "class_names = test_dataset.class_names\n",
        "print(class_names)"
      ],
      "metadata": {
        "id": "1fwr9wa5kwAT"
      },
      "execution_count": null,
      "outputs": []
    },
    {
      "cell_type": "markdown",
      "source": [
        "Lastly, we just want to configure our datasets for performance. This will help us out when we are training and testing the dataset."
      ],
      "metadata": {
        "id": "TgUOKpzo8pv0"
      }
    },
    {
      "cell_type": "code",
      "source": [
        "# Configures a dataset object to increase performance, including batching the dataset\n",
        "def configure_for_performance(ds):\n",
        "  ds = ds.cache()\n",
        "  ds = ds.shuffle(buffer_size=1000)\n",
        "  ds = ds.prefetch(buffer_size=AUTOTUNE)\n",
        "  return ds\n",
        "\n",
        "# Configure both datasets to increase performance\n",
        "AUTOTUNE = tf.data.AUTOTUNE\n",
        "train_dataset = configure_for_performance(train_dataset)\n",
        "test_dataset = configure_for_performance(test_dataset)"
      ],
      "metadata": {
        "id": "UB_dDjalm9XK"
      },
      "execution_count": null,
      "outputs": []
    },
    {
      "cell_type": "markdown",
      "source": [
        "Now, our dataset is all setup. So, we can start setting up our model."
      ],
      "metadata": {
        "id": "4DTMj7F082fc"
      }
    },
    {
      "cell_type": "markdown",
      "source": [
        "# **Data Augmentation and Class Weights**"
      ],
      "metadata": {
        "id": "OEe88rKU7KnM"
      }
    },
    {
      "cell_type": "markdown",
      "source": [
        "Now that we have split our data, we can go ahead and apply some transformations to it. To do this, we are going to make a short sequential tf model that will randomly apply transformations to the data. This will apply data augmentation across the whole training dataset evenly. So, this won't do anything to fix bias, or help fix the class imbalance that we saw earlier. To fix the class imbalance, we will use class weights. For normalization, there is a pre-processing method available specifically for the pre-trained network that we will be using. So, we will incorporate that when we are building the model itself."
      ],
      "metadata": {
        "id": "2m1eUAyD7O7g"
      }
    },
    {
      "cell_type": "code",
      "source": [
        "# Preset a random seed so that we can better compare different tests\n",
        "rand_seed = 0\n",
        "\n",
        "# Create a TF sequential model for data augmentation\n",
        "data_augmentation = tf.keras.Sequential([\n",
        "  tf.keras.layers.RandomFlip('horizontal', seed=rand_seed),\n",
        "  tf.keras.layers.RandomRotation(0.2, seed=rand_seed),\n",
        "  tf.keras.layers.RandomBrightness(0.2, seed=rand_seed),\n",
        "  tf.keras.layers.RandomContrast(0.2, seed=rand_seed),\n",
        "])"
      ],
      "metadata": {
        "id": "yk-EGbBaAzdC"
      },
      "execution_count": null,
      "outputs": []
    },
    {
      "cell_type": "markdown",
      "source": [
        "Class weights are essentially just a number that we use as a multiplier with our loss function. The basic idea is that since we have less data for melanomas and carcinomas, we will try to learn more from those examples. How we do that, is by applying a constant multiplier to our loss function, depending on which class we are learning from. So, the less images that we have for a class, the bigger the number we multiply with."
      ],
      "metadata": {
        "id": "FE82gZORvN8x"
      }
    },
    {
      "cell_type": "code",
      "source": [
        "# Compute Class Weights\n",
        "from sklearn.utils import class_weight\n",
        "\n",
        "class_weights = class_weight.compute_class_weight('balanced',\n",
        "                                                  classes=[0, 1],\n",
        "                                                  y=df['label_ind'])\n",
        "\n",
        "\n",
        "# Convert class weights to a dictionary and print the results\n",
        "class_wt_dict = dict(enumerate(class_weights))\n",
        "class_wt_dict"
      ],
      "metadata": {
        "id": "yvBiLUfDtUAs",
        "colab": {
          "base_uri": "https://localhost:8080/"
        },
        "outputId": "11b184bf-d306-4b61-eb1e-77d2a2ad3b2b"
      },
      "execution_count": null,
      "outputs": [
        {
          "output_type": "execute_result",
          "data": {
            "text/plain": [
              "{0: 1.006490599820949, 1: 0.9935925762262483}"
            ]
          },
          "metadata": {},
          "execution_count": 15
        }
      ]
    },
    {
      "cell_type": "markdown",
      "source": [
        "# **Setting up and Training a Pre-Trained Model**"
      ],
      "metadata": {
        "id": "t4snkjlAKAqy"
      }
    },
    {
      "cell_type": "markdown",
      "source": [
        "Here, we are going to be setting up our model and then training it."
      ],
      "metadata": {
        "id": "0LYix9DR946e"
      }
    },
    {
      "cell_type": "markdown",
      "source": [
        "I reccomend using a GPU to speed up processing. Make sure that you enable this for your runtime with the steps in the setup section. Than you can use the code below to configure it with tensorflow. Just be warned, you are only allowed a certain amount of GPU usage by google without having to pay for more."
      ],
      "metadata": {
        "id": "58TFxZJ0f5PI"
      }
    },
    {
      "cell_type": "code",
      "source": [
        "# Check if GPU is accessible to TF\n",
        "tf.config.list_physical_devices('GPU')\n",
        "tf.debugging.set_log_device_placement(True)\n",
        "\n",
        "# Get the GPU memory fraction to allocate\n",
        "gpu_memory_fraction = 0.65\n",
        "\n",
        "# Create GPUOptions with the fraction of GPU memory to allocate\n",
        "gpu_options = tf.compat.v1.GPUOptions(per_process_gpu_memory_fraction=gpu_memory_fraction)\n",
        "\n",
        "# Create a session with the GPUOptions\n",
        "session = tf.compat.v1.Session(config=tf.compat.v1.ConfigProto(gpu_options=gpu_options))"
      ],
      "metadata": {
        "id": "RJqUZGaGfeWT"
      },
      "execution_count": null,
      "outputs": []
    },
    {
      "cell_type": "markdown",
      "source": [
        "Now we can start to use a pre-trained model to test this data out. We are going to be using the VGG16 model here, here is an image of the basic architecture of that model. Note, we are going to be removing the last softmax layer and replacing it with out own set of layers.\n",
        "\n",
        "![vgg16_architecture.jpeg](data:image/jpeg;base64,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)"
      ],
      "metadata": {
        "id": "if1wip4sqjN-"
      }
    },
    {
      "cell_type": "markdown",
      "source": [
        "In this, we are loading up the fully trained model, but we are not including the final dense (fully connected) layers as we are going to put our own in. Also, we are going to set the remaining layers as not trainable, so that when we train the final model, we are only training the final dense layers.\n",
        "\n",
        "To start, let import the VGG16 model and freeze it."
      ],
      "metadata": {
        "id": "Js3uY5O8dbD9"
      }
    },
    {
      "cell_type": "code",
      "source": [
        "# Load the pre-trained model\n",
        "base_model = tf.keras.applications.vgg16.VGG16(include_top=False, weights='imagenet', input_shape=(224, 224, 3))\n",
        "\n",
        "# Make all layers in the pre-trained model not trainable\n",
        "for layer in base_model.layers:\n",
        "    layer.trainable = False\n",
        "\n",
        "# Print a summary of the base model\n",
        "base_model.summary()"
      ],
      "metadata": {
        "id": "x9qgMHFxQ33m"
      },
      "execution_count": null,
      "outputs": []
    },
    {
      "cell_type": "markdown",
      "source": [
        "Now, we can make our whole model using the Tensorflow Functional API. We are going to combine our data augmentation model, a pre-processing layer, the vgg16 model, and then a series of dense layers, normalization layers, and activation layers."
      ],
      "metadata": {
        "id": "abGBsEClSk1B"
      }
    },
    {
      "cell_type": "code",
      "source": [
        "# THIS REPRESENTS THE NUMBER OF OUTPUT CLASSES (ie, Melanoma, Carcinoma, Benign)\n",
        "IMG_SIZE = (224, 224, 3)\n",
        "\n",
        "# Build the model (augment -> normalize -> pre-trained -> dense layers)\n",
        "inputs = keras.Input(shape=IMG_SIZE)\n",
        "x = data_augmentation(inputs)\n",
        "x = tf.keras.applications.vgg16.preprocess_input(x)\n",
        "\n",
        "x = base_model(x, training=False)\n",
        "\n",
        "x = tf.keras.layers.Flatten()(x)\n",
        "\n",
        "x = tf.keras.layers.Dense(32)(x)\n",
        "x = tf.keras.layers.LeakyReLU()(x)\n",
        "x = tf.keras.layers.Dropout(0.2)(x)\n",
        "\n",
        "x = tf.keras.layers.Dense(16)(x)\n",
        "x = tf.keras.layers.LeakyReLU()(x)\n",
        "x = tf.keras.layers.Dropout(0.2)(x)\n",
        "\n",
        "outputs = tf.keras.layers.Dense(1, activation='sigmoid')(x)\n",
        "model = tf.keras.Model(inputs=inputs, outputs=outputs)\n",
        "\n",
        "# Compile the Model\n",
        "model.compile(optimizer=keras.optimizers.Adam(),\n",
        "              loss=keras.losses.BinaryCrossentropy(from_logits=False),\n",
        "              metrics=['accuracy', tf.keras.metrics.AUC()])\n",
        "\n",
        "\n",
        "# Define a callback that will call the garbage collector after each epoch\n",
        "class RAM_management(tf.keras.callbacks.Callback):\n",
        "  def on_epoch_end(self, epoch, logs=None):\n",
        "    gc.collect()\n"
      ],
      "metadata": {
        "id": "uNprinBpSkOw"
      },
      "execution_count": null,
      "outputs": []
    },
    {
      "cell_type": "markdown",
      "source": [
        "Now we can go ahead and train the model."
      ],
      "metadata": {
        "id": "WjBzivQTNOu_"
      }
    },
    {
      "cell_type": "code",
      "source": [
        "# HYPER PARAMETERS\n",
        "initial_epochs = 10\n",
        "\n",
        "# Train the model\n",
        "history = model.fit(\n",
        "    train_dataset,\n",
        "    epochs=initial_epochs,\n",
        "    validation_data=test_dataset,\n",
        "    callbacks=[RAM_management()])\n",
        "\n",
        "beep()"
      ],
      "metadata": {
        "id": "BbdP-OUYWLkt"
      },
      "execution_count": null,
      "outputs": []
    },
    {
      "cell_type": "markdown",
      "source": [
        "As a note, these models won't be as good as they can be. Making models is a highly iterative process that involves slowly tweaking different aspects of the model and data, in order to find the set-up that you can. Both learning how to and actually optimizing your model can take a while and so I wouldn't really worry about that too much right now. When we are making our own model later on, we will focus on that more."
      ],
      "metadata": {
        "id": "cYI7635VnNcm"
      }
    },
    {
      "cell_type": "markdown",
      "source": [
        "Now, we should have a pretty good accuracy. But we can do better by fine-tuning the model. What this involves is \"unfreezing\" either the whole model, or just some of the layers that were previously frozen, and then continuing to train the model, but with a really low learning rate.\n",
        "\n",
        "If you would like to know more about this process, you can visit the [tensorflow tutorial](https://www.tensorflow.org/tutorials/images/transfer_learning#learning_curves) on this process."
      ],
      "metadata": {
        "id": "_H3-apUTR0JL"
      }
    },
    {
      "cell_type": "code",
      "source": [
        "# Unfreeze the base model\n",
        "base_model.trainable = True\n",
        "\n",
        "# Recompile the model with a smaller learning rate\n",
        "model.compile(\n",
        "    optimizer=keras.optimizers.Adam(1e-5),\n",
        "    loss=keras.losses.BinaryCrossentropy(from_logits=False),\n",
        "    metrics=['accuracy', tf.keras.metrics.AUC()])"
      ],
      "metadata": {
        "id": "Bz4AG8v1MZRi"
      },
      "execution_count": null,
      "outputs": []
    },
    {
      "cell_type": "code",
      "source": [
        "# Define the number of fine tune epochs\n",
        "fine_tune_epochs = 12\n",
        "total_epochs =  initial_epochs + fine_tune_epochs\n",
        "\n",
        "# Fine tune the model\n",
        "finetune_history = model.fit(train_dataset,\n",
        "                             epochs=total_epochs,\n",
        "                             validation_data=test_dataset,\n",
        "                             initial_epoch=history.epoch[-1],\n",
        "                             callbacks=[RAM_management()])\n",
        "\n",
        "beep()"
      ],
      "metadata": {
        "id": "Xf_MmQ84VU72"
      },
      "execution_count": null,
      "outputs": []
    },
    {
      "cell_type": "markdown",
      "source": [
        "Before we continue, if you would like to save your model, run the code below to save it. Just make sure that the .keras file is either copied to your drive, or saved locally."
      ],
      "metadata": {
        "id": "ZAVw_WNA_Jo3"
      }
    },
    {
      "cell_type": "code",
      "source": [
        "# Run this if you want to save the current state of the model\n",
        "model_name = 'bin_vgg16_fitz17k_model.keras'   # Change this to match your model\n",
        "model.save(model_name)\n",
        "\n",
        "# Copy the model file to a destination directory\n",
        "copy_dest = None\n",
        "!cp \"$model_name\" \"$copy_dest\""
      ],
      "metadata": {
        "id": "VdUclSZKRAcA"
      },
      "execution_count": null,
      "outputs": []
    },
    {
      "cell_type": "markdown",
      "source": [
        "Now, lets plot the training history of our model. Firstly, we'll print out the model's ROC-AUC training and validation history."
      ],
      "metadata": {
        "id": "3_2k_A5M_p9W"
      }
    },
    {
      "cell_type": "code",
      "source": [
        "# Combine the training and fine tuning history\n",
        "auc = [0.] + history.history['auc']\n",
        "val_auc = [0.] + history.history['val_auc']\n",
        "auc += finetune_history.history['auc']\n",
        "val_auc += finetune_history.history['val_auc']\n",
        "\n",
        "# Plot the AUC graph\n",
        "plt.figure(figsize=(8,4))\n",
        "plt.plot(auc, label='Training AUC')\n",
        "plt.plot(val_auc, label='Validation AUC')\n",
        "plt.ylim([0, 1])\n",
        "plt.plot([initial_epochs-1, initial_epochs-1],\n",
        "         plt.ylim(), label='Start Fine Tuning')\n",
        "plt.legend(loc='lower right')"
      ],
      "metadata": {
        "id": "Bk0JO2OzmulV"
      },
      "execution_count": null,
      "outputs": []
    },
    {
      "cell_type": "markdown",
      "source": [
        "Now, let's print out the model's training and validation accuracy and loss."
      ],
      "metadata": {
        "id": "hkm_1r4H_2L7"
      }
    },
    {
      "cell_type": "code",
      "source": [
        "# Combine the training and fine tuning accuracy and loss\n",
        "acc = [0.] + history.history['accuracy']\n",
        "val_acc = [0.] + history.history['val_accuracy']\n",
        "loss = history.history['loss']\n",
        "val_loss = history.history['val_loss']\n",
        "acc += finetune_history.history['accuracy']\n",
        "val_acc += finetune_history.history['val_accuracy']\n",
        "loss += finetune_history.history['loss']\n",
        "val_loss += finetune_history.history['val_loss']\n",
        "\n",
        "# Create a figure for our plots\n",
        "plt.figure(figsize=(8, 8))\n",
        "\n",
        "# Plot the model's training/validation accuracy\n",
        "plt.subplot(2, 1, 1)\n",
        "plt.plot(acc, label='Training Accuracy')\n",
        "plt.plot(val_acc, label='Validation Accuracy')\n",
        "plt.ylim([0, 1])\n",
        "plt.plot([initial_epochs-1, initial_epochs-1],\n",
        "         plt.ylim(), label='Start Fine Tuning')\n",
        "plt.legend(loc='lower right')\n",
        "plt.title('Training Accuracy')\n",
        "\n",
        "# Plot the model's training/validation loss\n",
        "plt.subplot(2, 1, 2)\n",
        "plt.plot(loss, label='Training Loss')\n",
        "plt.plot(val_loss, label='Validation Loss')\n",
        "plt.ylim([0,1.0])\n",
        "plt.plot([initial_epochs-1, initial_epochs-1],\n",
        "         plt.ylim(), label='Start Fine Tuning')\n",
        "plt.legend(loc='upper right')\n",
        "plt.title('Training Loss')\n",
        "plt.xlabel('epoch')\n",
        "\n",
        "plt.show()"
      ],
      "metadata": {
        "id": "rx7ISVZwKqci"
      },
      "execution_count": null,
      "outputs": []
    },
    {
      "cell_type": "markdown",
      "source": [
        "Now, we can go ahead and test our model to see how we did. Something that is important to remember though, is that we have a huge class imbalance in both the training and testing sets. So, we can only trust most of these metrics to such a degree. Let's start by getting a classification report."
      ],
      "metadata": {
        "id": "JiKGOE_GbLUc"
      }
    },
    {
      "cell_type": "code",
      "source": [
        "# Build a classification report\n",
        "test_labels = [y for x, y in test_dataset.unbatch()]\n",
        "test_predictions = np.argmax(model.predict(test_dataset), axis=-1)\n",
        "print(classification_report(test_labels,test_predictions))"
      ],
      "metadata": {
        "id": "aE5FT8jehx9d"
      },
      "execution_count": null,
      "outputs": []
    },
    {
      "cell_type": "markdown",
      "source": [
        "Next, lets plot our ROC-AUC curve."
      ],
      "metadata": {
        "id": "02-Il2TSAZ_1"
      }
    },
    {
      "cell_type": "code",
      "source": [
        "# Obtain the AUC false positive rates, true positive rates, and thresholds.\n",
        "fpr, tpr, threshold = roc_curve(test_labels, test_predictions)\n",
        "auc_val = auc(fpr, tpr)"
      ],
      "metadata": {
        "id": "rBQoZgeUw53R"
      },
      "execution_count": null,
      "outputs": []
    },
    {
      "cell_type": "code",
      "source": [
        "# Plot the ROC-AUC data\n",
        "plt.figure(1)\n",
        "plt.plot([0, 1], [0, 1], 'k--')\n",
        "plt.plot(fpr, tpr, label='Model (area = {:.3f})'.format(auc_val))\n",
        "plt.xlabel('False positive rate')\n",
        "plt.ylabel('True positive rate')\n",
        "plt.title('ROC curve')\n",
        "plt.legend(loc='best')\n",
        "plt.show()"
      ],
      "metadata": {
        "id": "F9G7gsqRw-fo"
      },
      "execution_count": null,
      "outputs": []
    },
    {
      "cell_type": "markdown",
      "source": [
        "That completes this notebook. However, we are not necessary done with these models. In other notebooks we are going to do more things.\n",
        "\n",
        "1. Do in-depth testing on these models with separate datasets.\n",
        "2. Fine-tune these models with separate datasets to increase accuracy and (hopefully) reduce bias."
      ],
      "metadata": {
        "id": "m3Rpop5IA3o-"
      }
    },
    {
      "cell_type": "markdown",
      "source": [
        "# **Additional Resources**"
      ],
      "metadata": {
        "id": "H8Ijw1wGNqrP"
      }
    },
    {
      "cell_type": "markdown",
      "source": [
        "Here's some additional resources that may be helpful."
      ],
      "metadata": {
        "id": "KA5U2-hdNtYL"
      }
    },
    {
      "cell_type": "markdown",
      "source": [
        "**More about Google CoLabs**\n",
        "\n",
        "[Introduction to Google CoLabs Video](https://www.youtube.com/watch?v=RLYoEyIHL6A)\n",
        "\n",
        "[Official Google CoLabs Tutorial Notebook](https://colab.research.google.com/notebooks/welcome.ipynb#scrollTo=-Rh3-Vt9Nev9)"
      ],
      "metadata": {
        "id": "zcvMzYs5NyGP"
      }
    },
    {
      "cell_type": "markdown",
      "source": [
        "**Information about Metrics for Evaluating Models**\n",
        "\n",
        "[Video talking about some common metrics used for Classification Models](https://www.youtube.com/watch?v=XiUlqN1Ay0U&list=LL&index=3)\n",
        "- This goes into the code a little bit, but don't really worry about that part of it.\n",
        "\n",
        "[Good video talking about evaluation metrics overall](https://www.youtube.com/watch?v=LbX4X71-TFI&list=LL&index=4&t=22s)\n",
        "- She goes into some metrics for regression models, but don't worry about those as we are only doing classification.\n"
      ],
      "metadata": {
        "id": "L1p1FjNtPJf7"
      }
    },
    {
      "cell_type": "markdown",
      "source": [
        "**Using data augmentation to fix data imbalance**\n",
        "\n",
        "[Image Augmentation for Imbalanced Medical Datasets\n",
        "](https://www.youtube.com/watch?v=B-YA-pfVOrY)"
      ],
      "metadata": {
        "id": "HQ1pxs-qQ4-X"
      }
    }
  ]
}